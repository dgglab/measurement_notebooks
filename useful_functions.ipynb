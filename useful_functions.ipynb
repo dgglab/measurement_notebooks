{
 "cells": [
  {
   "cell_type": "code",
   "execution_count": null,
   "id": "4370e3a4",
   "metadata": {},
   "outputs": [],
   "source": [
    "from qcodes.instrument_drivers.stanford_research.SR830 import SR830"
   ]
  },
  {
   "cell_type": "code",
   "execution_count": null,
   "id": "229bc3fe",
   "metadata": {},
   "outputs": [],
   "source": [
    "### Adjust autoranging\n",
    "def autorange_sr830s(sr830s):\n",
    "    '''\n",
    "    Takes a list of sr830s to autorange\n",
    "    Autoranging is performed based on the phase on the first provided lockin\n",
    "    TODO: set sensitivity bounds\n",
    "    '''\n",
    "    if len(sr830s) == 0: return\n",
    "    p = sr830s[0].P() # phase of current measurement\n",
    "    if np.abs(p)<160: return\n",
    "    for s in sr830s[1:]:\n",
    "        def autorange_once(sr830):\n",
    "            r = sr830.R()\n",
    "            sens = sr830.sensitivity()\n",
    "            if r > 0.9 * sens:\n",
    "                return sr830.increment_sensitivity()\n",
    "            elif r < 0.1 * sens:\n",
    "                return sr830.decrement_sensitivity()\n",
    "            else: return False\n",
    "        sets = 0\n",
    "        while autorange_once(s) and sets < 3:\n",
    "            sets += 1\n",
    "            # Sleep 10 times the time constant between range sets.\n",
    "            # The manual has more detailed guidelines for how long to wait.\n",
    "            time.sleep(10 * s.time_constant())"
   ]
  }
 ],
 "metadata": {
  "kernelspec": {
   "display_name": "Python 3 (ipykernel)",
   "language": "python",
   "name": "python3"
  },
  "language_info": {
   "codemirror_mode": {
    "name": "ipython",
    "version": 3
   },
   "file_extension": ".py",
   "mimetype": "text/x-python",
   "name": "python",
   "nbconvert_exporter": "python",
   "pygments_lexer": "ipython3",
   "version": "3.9.6"
  }
 },
 "nbformat": 4,
 "nbformat_minor": 5
}
