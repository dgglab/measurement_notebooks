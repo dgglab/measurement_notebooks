{
 "cells": [
  {
   "cell_type": "markdown",
   "id": "7aa8f2ce",
   "metadata": {},
   "source": [
    "# init"
   ]
  },
  {
   "cell_type": "code",
   "execution_count": null,
   "id": "58f511b5",
   "metadata": {},
   "outputs": [],
   "source": [
    "import numpy as np\n",
    "import qcodes\n",
    "import time\n",
    "import sweep\n",
    "import os\n",
    "\n",
    "\n",
    "from qcodes.instrument_drivers.tektronix.Keithley_2400 import Keithley_2400\n",
    "from qcodes.instrument_drivers.stanford_research.SR830 import SR830\n",
    "from qcodes.instrument_drivers.stanford_research.SR860 import SR860\n",
    "from qcodes import VisaInstrument\n",
    "from useful_functions import autorange_sr830s"
   ]
  },
  {
   "cell_type": "code",
   "execution_count": null,
   "id": "3a96b8f9",
   "metadata": {},
   "outputs": [],
   "source": [
    "sweep.set_basedir('.')"
   ]
  },
  {
   "cell_type": "markdown",
   "id": "11ecaef3",
   "metadata": {},
   "source": [
    "## Keithleys"
   ]
  },
  {
   "cell_type": "code",
   "execution_count": null,
   "id": "9bf2a284",
   "metadata": {},
   "outputs": [],
   "source": [
    "k_bg1 = Keithley_2400('k_bg1', 'GPIB4::9::INSTR')\n",
    "k_bg1.mode.set('VOLT')\n",
    "#k_bg1.volt.set(0)\n",
    "k_bg1.rangev.set(21)\n",
    "k_bg1.rangei.set(1e-6)\n",
    "k_bg1.compliancev.set(20)\n",
    "k_bg1.compliancei.set(1e-6)\n",
    "k_bg1.output.set(1)\n",
    "\n",
    "k_bg1.volt.step = 0.005\n",
    "\n",
    "k_tg2 = Keithley_2400('k_tg2', 'GPIB4::10::INSTR')\n",
    "k_tg2.mode.set('VOLT')\n",
    "#k_tg2.volt.set(0)\n",
    "k_tg2.rangev.set(21)\n",
    "k_tg2.rangei.set(1e-6)\n",
    "k_tg2.compliancev.set(20)\n",
    "k_tg2.compliancei.set(1e-6)\n",
    "k_tg2.output.set(1)\n",
    "\n",
    "k_tg2.volt.step = 0.005\n",
    "\n",
    "k_bg2 = Keithley_2400('k_bg2', 'GPIB4::11::INSTR')\n",
    "k_bg2.mode.set('VOLT')\n",
    "#k_bg2.volt.set(0)\n",
    "k_bg2.rangev.set(21)\n",
    "k_bg2.rangei.set(1e-6)\n",
    "k_bg2.compliancev.set(20)\n",
    "k_bg2.compliancei.set(1e-6)\n",
    "k_bg2.output.set(1)\n",
    "\n",
    "k_bg2.volt.step = 0.005\n",
    "\n",
    "k_tg3 = Keithley_2400('k_tg3', 'GPIB4::12::INSTR')\n",
    "k_tg3.mode.set('VOLT')\n",
    "#k_tg3.volt.set(0)\n",
    "k_tg3.rangev.set(21)\n",
    "k_tg3.rangei.set(1e-6)\n",
    "k_tg3.compliancev.set(20)\n",
    "k_tg3.compliancei.set(1e-6)\n",
    "k_tg3.output.set(1)\n",
    "\n",
    "k_tg3.volt.step = 0.005\n",
    "\n",
    "\n",
    "heater = Keithley_2400('heater', 'GPIB4::12::INSTR')\n",
    "heater.mode.set('VOLT')\n",
    "#k_tg3.volt.set(0)\n",
    "heater.rangev.set(21)\n",
    "heater.rangei.set(1e-3)\n",
    "heater.compliancev.set(20)\n",
    "heater.compliancei.set(1e-6)\n",
    "heater.output.set(1)\n",
    "\n",
    "heater.volt.step = 0.005"
   ]
  },
  {
   "cell_type": "markdown",
   "id": "9d6bc89a",
   "metadata": {},
   "source": [
    "## Lockins"
   ]
  },
  {
   "cell_type": "code",
   "execution_count": null,
   "id": "8c428dd6",
   "metadata": {},
   "outputs": [],
   "source": [
    "sr830_1 = SR830('sr830_1', 'GPIB1::1::INSTR')\n",
    "sr830_2 = SR830('sr830_2', 'GPIB1::2::INSTR')\n",
    "sr830_3 = SR830('sr830_3', 'GPIB1::3::INSTR')\n",
    "sr830_4 = SR830('sr830_4', 'GPIB1::4::INSTR')"
   ]
  },
  {
   "cell_type": "code",
   "execution_count": null,
   "id": "58998d67",
   "metadata": {},
   "outputs": [],
   "source": [
    "sr830s = [(sr830_1, 100), \n",
    "          (sr830_2, 100), \n",
    "          (sr830_3, 100), \n",
    "          (sr830_4, -1E6),]\n",
    "\n",
    "\n",
    "for i, (srs, gain) in enumerate(sr830s):\n",
    "    print(i, srs.X(), gain)"
   ]
  },
  {
   "cell_type": "markdown",
   "id": "98a590cb",
   "metadata": {},
   "source": [
    "## Magnet"
   ]
  },
  {
   "cell_type": "code",
   "execution_count": null,
   "id": "edde0354",
   "metadata": {},
   "outputs": [],
   "source": [
    "magnet = VisaInstrument('magnet', 'GPIB3::13::INSTR')\n",
    "magnet.set_terminator('\\r\\n')\n",
    "magnet.write(\"CONF:FIELD:UNITS 1\")\n",
    "magnet.write(\"CONF:COIL 0.116783\")\n",
    "magnet.write(\"CONF:RAMP:RATE:UNITS 0\")\n",
    "magnet.write(\"CONF:RAMP:RATE:SEG 1\")\n",
    "magnet.write(\"CONF:RAMP:RATE:FIELD 1,0.001,14\")\n",
    "magnet.write(\"CONF:PS 0\")\n",
    "magnet.write(\"CONF:QU:DET 1\")\n",
    "magnet.write(\"CONF:CURR:LIM 120\")\n",
    "magnet.write(\"CONF:VOLT:LIM 3.5\")\n",
    "magnet.write(\"CONF:STAB 59\")\n",
    "magnet.write(\"RAMP\")\n",
    "\n",
    "def set_b(mag, b):\n",
    "    magnet.device_clear()\n",
    "    time.sleep(0.1)\n",
    "    mag.write(f'CONF:FIELD:TARG {b}')\n",
    "    time.sleep(0.1)\n",
    "    magnet.device_clear()\n",
    "    time.sleep(0.1)\n",
    "    mag.ask('STATE?') # Magnet somtimes retains things in its buffer\n",
    "    time.sleep(0.01)\n",
    "    while int(mag.ask('STATE?')) == 1:\n",
    "        time.sleep(0.1)\n",
    "        magnet.device_clear()\n",
    "\n",
    "\n",
    "def get_b(mag):\n",
    "    magnet.device_clear() # Magnet somtimes retains things in its buffer\n",
    "    time.sleep(0.1)\n",
    "    ret = mag.ask('FIELD:MAG?')\n",
    "    while len(ret) == 0:\n",
    "        time.sleep(0.1)\n",
    "        magnet.device_clear()\n",
    "        time.sleep(0.1)\n",
    "        ret = mag.ask('FIELD:MAG?')\n",
    "    return float(ret)\n",
    "\n",
    "mag = qcodes.Parameter('mag', unit='T', get_cmd=lambda: get_b(magnet), set_cmd=lambda b: set_b(magnet, b))\n",
    "print(f'Field: {mag()}')\n"
   ]
  },
  {
   "cell_type": "markdown",
   "id": "ece6f897",
   "metadata": {},
   "source": [
    "## Thermometry"
   ]
  },
  {
   "cell_type": "code",
   "execution_count": null,
   "id": "47a84052",
   "metadata": {},
   "outputs": [],
   "source": [
    "def read_temperature():\n",
    "    content = []\n",
    "    retries = 5\n",
    "    while len(content) == 0 and retries > 0:\n",
    "        with open('/Users/dgglab/Desktop/control900/control/Release/temp.txt') as f:\n",
    "            content = f.readlines()\n",
    "        content = [x.strip() for x in content]\n",
    "        if len(content) == 0:\n",
    "            time.sleep(0.005)\n",
    "            retries = retries - 1\n",
    "    if retries == 0:\n",
    "        print('Timed out waiting for temperature')\n",
    "        content = ['nan']\n",
    "    return float(content[0])\n",
    "temperature = qcodes.Parameter('T', unit='K', get_cmd=read_temperature)\n",
    "print(f'Temperature: {temperature()}')\n",
    "\n",
    "\n",
    "def read_mag_temperature():\n",
    "    content = []\n",
    "    retries = 5\n",
    "    while len(content) == 0 and retries > 0:\n",
    "        with open('/Users/dgglab/Desktop/TempDataStorage/Fridge_Magnet.txt', 'rb') as f:\n",
    "            try:  # catch OSError in case of a one line file \n",
    "                f.seek(-2, os.SEEK_END)\n",
    "                while f.read(1) != b'\\n':\n",
    "                    f.seek(-2, os.SEEK_CUR)\n",
    "                content = f.readline().decode().split('\\t')\n",
    "            except OSError:\n",
    "                time.sleep(0.005)\n",
    "                retries = retries - 1\n",
    "    if retries == 0:\n",
    "        print('Timed out waiting for temperature')\n",
    "        content = ['nan']\n",
    "    return float(content[-3])\n",
    "\n",
    "mag_temperature = qcodes.Parameter('T', unit='K', get_cmd=read_mag_temperature)\n",
    "print(f'Mag Temperature: {mag_temperature()}')\n"
   ]
  },
  {
   "cell_type": "markdown",
   "id": "54d04bc0",
   "metadata": {},
   "source": [
    "# Example station"
   ]
  },
  {
   "cell_type": "code",
   "execution_count": null,
   "id": "ced5acd5",
   "metadata": {},
   "outputs": [],
   "source": [
    "sr830s_2_autorange = [sr830_3, sr830_0, sr830_1, sr830_2]\n",
    "s = sweep.Station()\n",
    "s.fp(temperature)\n",
    "s.fp(k_bg1.curr)\n",
    "s.fp(k_tg2.curr)\n",
    "for sr, gain in sr830s:\n",
    "    s.fp(sr.X, gain)\n",
    "    s.fp(sr.P)\n",
    "s.register_run_before(autorange_sr830s, [sr830s_2_autorange])\n",
    "\n",
    "#s.sweep(mag, np.linspace(0.5, 0.6, 26), delay=1)"
   ]
  }
 ],
 "metadata": {
  "kernelspec": {
   "display_name": "Python 3 (ipykernel)",
   "language": "python",
   "name": "python3"
  },
  "language_info": {
   "codemirror_mode": {
    "name": "ipython",
    "version": 3
   },
   "file_extension": ".py",
   "mimetype": "text/x-python",
   "name": "python",
   "nbconvert_exporter": "python",
   "pygments_lexer": "ipython3",
   "version": "3.9.6"
  }
 },
 "nbformat": 4,
 "nbformat_minor": 5
}
