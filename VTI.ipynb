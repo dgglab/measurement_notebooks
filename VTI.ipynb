{
 "cells": [
  {
   "cell_type": "markdown",
   "id": "dec33f02-cb4c-4e6c-84b6-ca295cc761f8",
   "metadata": {},
   "source": [
    "# Init"
   ]
  },
  {
   "cell_type": "code",
   "execution_count": 1,
   "id": "62b08219-7855-498a-bf25-9e34c7554790",
   "metadata": {},
   "outputs": [],
   "source": [
    "import numpy as np\n",
    "import qcodes\n",
    "import time\n",
    "import sweep\n",
    "\n",
    "from qcodes.instrument_drivers.tektronix.Keithley_2400 import Keithley_2400\n",
    "from qcodes import VisaInstrument"
   ]
  },
  {
   "cell_type": "code",
   "execution_count": 2,
   "id": "c91793c5-4bff-41fe-9727-1bd772bde527",
   "metadata": {},
   "outputs": [],
   "source": [
    "sweep.set_basedir(r\"D:\\Dropbox (DGG Lab)\\VTI\\Data\\aaron\\QH03-11\")"
   ]
  },
  {
   "cell_type": "markdown",
   "id": "9818c937-18a6-4fcf-8503-45852c8cd4fe",
   "metadata": {},
   "source": [
    "## Thermometry"
   ]
  },
  {
   "cell_type": "code",
   "execution_count": 3,
   "id": "96dec45e-3c05-4dda-a44f-0907a2831abe",
   "metadata": {},
   "outputs": [
    {
     "name": "stdout",
     "output_type": "stream",
     "text": [
      "Connected to: LSCI 335 (serial:LSA2FM7/#######, firmware:1.4) in 0.15s\n"
     ]
    },
    {
     "data": {
      "text/plain": [
       "1.697"
      ]
     },
     "execution_count": 3,
     "metadata": {},
     "output_type": "execute_result"
    }
   ],
   "source": [
    "class Lakeshore_335(VisaInstrument):\n",
    "    # TODO: PID.\n",
    "    def __init__(self, name, address, **kwargs):\n",
    "        super().__init__(name, address, terminator='\\r\\n', **kwargs)\n",
    "        self.add_parameter('sample_temperature', get_cmd='KRDG? A', get_parser=float, unit='K')\n",
    "        self.add_parameter('vaporizer_temperature', get_cmd='KRDG? B', get_parser=float, unit='K')\n",
    "        self.add_parameter('sample_setpoint', get_cmd='SETP? 1', get_parser=float, set_cmd='SETP 1,{:.4f}', unit='K')\n",
    "        self.add_parameter('vaporizer_setpoint', get_cmd='SETP? 2', get_parser=float, set_cmd='SETP 2,{:.4f}', unit='K')\n",
    "        self.add_parameter('sample_range', get_cmd='RANGE? 1', get_parser=int, set_cmd='RANGE 1,{}')\n",
    "        self.add_parameter('vaporizer_range', get_cmd='RANGE? 2', get_parser=int, set_cmd='RANGE 2,{}')\n",
    "        self.connect_message()\n",
    "        \n",
    "    def off(self):\n",
    "        self.sample_range(0)\n",
    "        self.vaporizer_range(0)\n",
    "    \n",
    "    def smart_set(self, temperature):\n",
    "        self.sample_setpoint(temperature)\n",
    "        self.vaporizer_setpoint(temperature * 0.95)\n",
    "        r = 3\n",
    "        if temperature < 10:\n",
    "            r = 1\n",
    "        elif temperature < 100:\n",
    "            r = 2\n",
    "        self.sample_range(r)\n",
    "        self.vaporizer_range(r)\n",
    "        \n",
    "heater = Lakeshore_335('l335_1', 'GPIB0::10::INSTR')\n",
    "heater.sample_temperature()"
   ]
  },
  {
   "cell_type": "markdown",
   "id": "b08149b6-10a1-4580-8c52-cfcf03d809c6",
   "metadata": {},
   "source": [
    "## Keithleys"
   ]
  },
  {
   "cell_type": "code",
   "execution_count": 4,
   "id": "affdde70-3397-4ced-87be-d97f3f4c41b5",
   "metadata": {},
   "outputs": [
    {
     "name": "stdout",
     "output_type": "stream",
     "text": [
      "Connected to: KEITHLEY INSTRUMENTS INC. 2400 (serial:4077183, firmware:C32   Oct  4 2010 14:20:11/A02  /U/K) in 0.05s\n",
      "Connected to: KEITHLEY INSTRUMENTS INC. 2400 (serial:4076931, firmware:C32   Oct  4 2010 14:20:11/A02  /U/K) in 0.04s\n",
      "Connected to: KEITHLEY INSTRUMENTS INC. 2400 (serial:1299232, firmware:C30   Mar 17 2006 09:29:29/A02  /K/J) in 0.04s\n"
     ]
    }
   ],
   "source": [
    "k_si = Keithley_2400('k_si', 'GPIB0::2::INSTR')\n",
    "k_si.mode.set('VOLT')\n",
    "k_si.volt.set(0)\n",
    "k_si.rangev.set(21)\n",
    "k_si.rangei.set(1e-6)\n",
    "k_si.compliancev.set(21)\n",
    "k_si.compliancei.set(1e-6)\n",
    "k_si.output.set(1)\n",
    "\n",
    "k_si.volt.step = 0.002\n",
    "\n",
    "k_tg = Keithley_2400('k_tg', 'GPIB0::3::INSTR')\n",
    "k_tg.mode.set('VOLT')\n",
    "k_tg.volt.set(0)\n",
    "k_tg.rangev.set(21)\n",
    "k_tg.rangei.set(1e-6)\n",
    "k_tg.compliancev.set(15)\n",
    "k_tg.compliancei.set(1e-6)\n",
    "k_tg.output.set(1)\n",
    "\n",
    "k_tg.volt.step = 0.002\n",
    "\n",
    "k_gg = Keithley_2400('k_gg', 'GPIB0::4::INSTR')\n",
    "k_gg.mode.set('VOLT')\n",
    "k_gg.volt.set(0)\n",
    "k_gg.rangev.set(21)\n",
    "k_gg.rangei.set(1e-6)\n",
    "k_gg.compliancev.set(12)\n",
    "k_gg.compliancei.set(1e-6)\n",
    "k_gg.output.set(1)\n",
    "\n",
    "k_gg.volt.step = 0.002"
   ]
  },
  {
   "cell_type": "code",
   "execution_count": 10,
   "id": "4d122c08-c970-40b2-85e7-778d3220b561",
   "metadata": {},
   "outputs": [],
   "source": [
    "k_gg.volt(0)"
   ]
  },
  {
   "cell_type": "markdown",
   "id": "1154ac64-1f00-47f2-97ea-4801cf94ff70",
   "metadata": {},
   "source": [
    "## FBL"
   ]
  },
  {
   "cell_type": "code",
   "execution_count": null,
   "id": "ef17cfe9-1632-4e6b-8554-f1834ad757b7",
   "metadata": {},
   "outputs": [],
   "source": [
    "channels = [1, 2, 15]\n",
    "gains = [1e4]*2 + [1e8]\n",
    "print(channels, gains)\n",
    "print(len(channels), len(gains))"
   ]
  },
  {
   "cell_type": "markdown",
   "id": "fba4c097-bb1d-4814-99ae-eb000d985719",
   "metadata": {},
   "source": [
    "# Example station"
   ]
  },
  {
   "cell_type": "code",
   "execution_count": null,
   "id": "4a8e4b47-a87f-48a8-aa3e-4aa0eec3c3ba",
   "metadata": {},
   "outputs": [],
   "source": [
    "s = sweep.Station()\n",
    "s.fp(heater.sample_temperature)\n",
    "s.fp(heater.vaporizer_temperature)\n",
    "s.fp(k_tg.curr)\n",
    "s.fp(k_si.curr)\n",
    "s.follow_fbl(channels, gains=gains)\n",
    "\n",
    "s.plot(k_tg.volt, k_tg.curr)\n",
    "s.plot(k_tg.volt, k_si.curr)\n",
    "for c in channels:\n",
    "    s.plot(k_tg.volt, f'fbl_c{c}_x')\n",
    "\n",
    "#s.sweep(k_tg.volt, np.linspace(0, 0.1, 11), delay=1)\n",
    "#k_tg.volt(0)"
   ]
  }
 ],
 "metadata": {
  "kernelspec": {
   "display_name": "Python 3 (ipykernel)",
   "language": "python",
   "name": "python3"
  },
  "language_info": {
   "codemirror_mode": {
    "name": "ipython",
    "version": 3
   },
   "file_extension": ".py",
   "mimetype": "text/x-python",
   "name": "python",
   "nbconvert_exporter": "python",
   "pygments_lexer": "ipython3",
   "version": "3.10.5"
  }
 },
 "nbformat": 4,
 "nbformat_minor": 5
}
